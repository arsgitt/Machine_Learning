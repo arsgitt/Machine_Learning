{
 "cells": [
  {
   "cell_type": "markdown",
   "id": "17acebfa-b935-43e1-a0f0-5cbd33dce819",
   "metadata": {},
   "source": [
    "**1. Загрузка данных и предварительный анализ**"
   ]
  },
  {
   "cell_type": "code",
   "execution_count": 2,
   "id": "7f2e8ac7-30cd-4b2b-83da-d3b0a23a1852",
   "metadata": {},
   "outputs": [
    {
     "name": "stdout",
     "output_type": "stream",
     "text": [
      "Размер датасета: (150, 4)\n",
      "Информация о пропусках:\n",
      "sepal length (cm)    0\n",
      "sepal width (cm)     0\n",
      "petal length (cm)    0\n",
      "petal width (cm)     0\n",
      "dtype: int64\n"
     ]
    }
   ],
   "source": [
    "import numpy as np\n",
    "import pandas as pd\n",
    "import matplotlib.pyplot as plt\n",
    "from sklearn.datasets import load_iris\n",
    "from sklearn.model_selection import train_test_split, GridSearchCV, RandomizedSearchCV\n",
    "from sklearn.model_selection import KFold, StratifiedKFold\n",
    "from sklearn.neighbors import KNeighborsClassifier\n",
    "from sklearn.preprocessing import StandardScaler\n",
    "from sklearn.metrics import accuracy_score, classification_report, confusion_matrix\n",
    "\n",
    "# Загружаем набор данных\n",
    "iris = load_iris()\n",
    "X = pd.DataFrame(iris.data, columns=iris.feature_names)\n",
    "y = iris.target\n",
    "\n",
    "# Посмотрим на данные\n",
    "print(\"Размер датасета:\", X.shape)\n",
    "print(\"Информация о пропусках:\")\n",
    "print(X.isnull().sum())"
   ]
  },
  {
   "cell_type": "markdown",
   "id": "ae9cffca-2956-4802-aa9d-dd252498bf47",
   "metadata": {},
   "source": [
    "**2. Разделение выборки на обучающую и тестовую**"
   ]
  },
  {
   "cell_type": "code",
   "execution_count": 3,
   "id": "47db0e7d-b030-4455-b366-c5805349bc05",
   "metadata": {},
   "outputs": [],
   "source": [
    "X_train, X_test, y_train, y_test = train_test_split(X, y, test_size=0.2, random_state=42, stratify=y)\n",
    "\n",
    "# Стандартизация признаков\n",
    "scaler = StandardScaler()\n",
    "X_train_scaled = scaler.fit_transform(X_train)\n",
    "X_test_scaled = scaler.transform(X_test)"
   ]
  },
  {
   "cell_type": "markdown",
   "id": "1b2c2e3a-02bc-4b2d-8ef8-f03ed4367b19",
   "metadata": {},
   "source": [
    "**3. Обучение исходной модели с произвольным K**"
   ]
  },
  {
   "cell_type": "code",
   "execution_count": 4,
   "id": "71503803-6beb-4140-9519-747112cc7790",
   "metadata": {},
   "outputs": [
    {
     "name": "stdout",
     "output_type": "stream",
     "text": [
      "Точность исходной модели (K=5): 0.9333\n",
      "\n",
      "Отчет о классификации:\n",
      "              precision    recall  f1-score   support\n",
      "\n",
      "           0       1.00      1.00      1.00        10\n",
      "           1       0.83      1.00      0.91        10\n",
      "           2       1.00      0.80      0.89        10\n",
      "\n",
      "    accuracy                           0.93        30\n",
      "   macro avg       0.94      0.93      0.93        30\n",
      "weighted avg       0.94      0.93      0.93        30\n",
      "\n"
     ]
    }
   ],
   "source": [
    "k = 5\n",
    "knn = KNeighborsClassifier(n_neighbors=k)\n",
    "knn.fit(X_train_scaled, y_train)\n",
    "\n",
    "# Оценка качества исходной модели\n",
    "y_pred = knn.predict(X_test_scaled)\n",
    "initial_accuracy = accuracy_score(y_test, y_pred)\n",
    "\n",
    "print(f\"Точность исходной модели (K={k}): {initial_accuracy:.4f}\")\n",
    "print(\"\\nОтчет о классификации:\")\n",
    "print(classification_report(y_test, y_pred))"
   ]
  },
  {
   "cell_type": "markdown",
   "id": "73f792ef-f289-411c-8438-137891b4cb13",
   "metadata": {},
   "source": [
    "**4. Подбор оптимального значения K с использованием GridSearchCV**"
   ]
  },
  {
   "cell_type": "code",
   "execution_count": 5,
   "id": "d18a7555-a4b9-4eeb-b8b8-c5c72a718bdb",
   "metadata": {},
   "outputs": [
    {
     "name": "stdout",
     "output_type": "stream",
     "text": [
      "\n",
      "GridSearchCV с KFold:\n",
      "Оптимальное K: 3\n",
      "Точность на валидационной выборке: 0.9667\n",
      "Точность на тестовой выборке: 0.9333\n",
      "\n",
      "GridSearchCV с StratifiedKFold:\n",
      "Оптимальное K: 3\n",
      "Точность на валидационной выборке: 0.9667\n",
      "Точность на тестовой выборке: 0.9333\n"
     ]
    }
   ],
   "source": [
    "param_grid = {'n_neighbors': range(1, 31)}\n",
    "\n",
    "# Стратегии кросс-валидации\n",
    "cv_strategies = [\n",
    "    ('KFold', KFold(n_splits=5, shuffle=True, random_state=42)),\n",
    "    ('StratifiedKFold', StratifiedKFold(n_splits=5, shuffle=True, random_state=42))\n",
    "]\n",
    "\n",
    "# Подбор гиперпараметров с GridSearchCV\n",
    "grid_results = {}\n",
    "\n",
    "for cv_name, cv in cv_strategies:\n",
    "    grid_search = GridSearchCV(\n",
    "        KNeighborsClassifier(),\n",
    "        param_grid=param_grid,\n",
    "        cv=cv,\n",
    "        scoring='accuracy',\n",
    "        n_jobs=-1\n",
    "    )\n",
    "    grid_search.fit(X_train_scaled, y_train)\n",
    "    \n",
    "    best_k = grid_search.best_params_['n_neighbors']\n",
    "    best_score = grid_search.best_score_\n",
    "    \n",
    "    # Оценка оптимальной модели\n",
    "    best_model = grid_search.best_estimator_\n",
    "    y_pred = best_model.predict(X_test_scaled)\n",
    "    accuracy = accuracy_score(y_test, y_pred)\n",
    "    \n",
    "    grid_results[cv_name] = {\n",
    "        'best_k': best_k,\n",
    "        'best_cv_accuracy': best_score,\n",
    "        'test_accuracy': accuracy\n",
    "    }\n",
    "    \n",
    "    print(f\"\\nGridSearchCV с {cv_name}:\")\n",
    "    print(f\"Оптимальное K: {best_k}\")\n",
    "    print(f\"Точность на валидационной выборке: {best_score:.4f}\")\n",
    "    print(f\"Точность на тестовой выборке: {accuracy:.4f}\")"
   ]
  },
  {
   "cell_type": "markdown",
   "id": "2396ad32-827c-4efc-af38-21650e92cf61",
   "metadata": {},
   "source": [
    "**5. Подбор оптимального значения K с использованием RandomizedSearchCV**"
   ]
  },
  {
   "cell_type": "code",
   "execution_count": 6,
   "id": "35b4e932-fa32-4b49-a874-dedde84608ef",
   "metadata": {},
   "outputs": [
    {
     "name": "stdout",
     "output_type": "stream",
     "text": [
      "\n",
      "RandomizedSearchCV с KFold:\n",
      "Оптимальное K: 9\n",
      "Точность на валидационной выборке: 0.9500\n",
      "Точность на тестовой выборке: 0.9667\n",
      "\n",
      "RandomizedSearchCV с StratifiedKFold:\n",
      "Оптимальное K: 10\n",
      "Точность на валидационной выборке: 0.9583\n",
      "Точность на тестовой выборке: 0.9667\n"
     ]
    }
   ],
   "source": [
    "random_results = {}\n",
    "\n",
    "for cv_name, cv in cv_strategies:\n",
    "    random_search = RandomizedSearchCV(\n",
    "        KNeighborsClassifier(),\n",
    "        param_distributions={'n_neighbors': list(range(1, 31))},\n",
    "        n_iter=10,\n",
    "        cv=cv,\n",
    "        scoring='accuracy',\n",
    "        random_state=42,\n",
    "        n_jobs=-1\n",
    "    )\n",
    "    random_search.fit(X_train_scaled, y_train)\n",
    "    \n",
    "    best_k = random_search.best_params_['n_neighbors']\n",
    "    best_score = random_search.best_score_\n",
    "    \n",
    "    # Оценка оптимальной модели\n",
    "    best_model = random_search.best_estimator_\n",
    "    y_pred = best_model.predict(X_test_scaled)\n",
    "    accuracy = accuracy_score(y_test, y_pred)\n",
    "    \n",
    "    random_results[cv_name] = {\n",
    "        'best_k': best_k,\n",
    "        'best_cv_accuracy': best_score,\n",
    "        'test_accuracy': accuracy\n",
    "    }\n",
    "    \n",
    "    print(f\"\\nRandomizedSearchCV с {cv_name}:\")\n",
    "    print(f\"Оптимальное K: {best_k}\")\n",
    "    print(f\"Точность на валидационной выборке: {best_score:.4f}\")\n",
    "    print(f\"Точность на тестовой выборке: {accuracy:.4f}\")"
   ]
  },
  {
   "cell_type": "markdown",
   "id": "8f89d590-7795-4cd1-b412-cf1332d0288d",
   "metadata": {},
   "source": [
    "**6. Сравнение качества исходной и оптимальной моделей**"
   ]
  },
  {
   "cell_type": "code",
   "execution_count": 7,
   "id": "fb5fbf8c-451b-42a4-8209-fb2babc5c747",
   "metadata": {},
   "outputs": [
    {
     "name": "stdout",
     "output_type": "stream",
     "text": [
      "\n",
      "=== Сравнение моделей ===\n",
      "Исходная модель (K=5):\n",
      "Точность: 0.9333\n",
      "\n",
      "Оптимальные модели из GridSearchCV:\n",
      "  KFold (K=3):\n",
      "  Точность: 0.9333\n",
      "  StratifiedKFold (K=3):\n",
      "  Точность: 0.9333\n",
      "\n",
      "Оптимальные модели из RandomizedSearchCV:\n",
      "  KFold (K=9):\n",
      "  Точность: 0.9667\n",
      "  StratifiedKFold (K=10):\n",
      "  Точность: 0.9667\n"
     ]
    },
    {
     "data": {
      "image/png": "[encoded data removed]",
      "text/plain": [
       "<Figure size 1000x600 with 1 Axes>"
      ]
     },
     "metadata": {},
     "output_type": "display_data"
    }
   ],
   "source": [
    "print(\"\\n=== Сравнение моделей ===\")\n",
    "print(f\"Исходная модель (K={k}):\")\n",
    "print(f\"Точность: {initial_accuracy:.4f}\")\n",
    "\n",
    "print(\"\\nОптимальные модели из GridSearchCV:\")\n",
    "for cv_name, results in grid_results.items():\n",
    "    print(f\"  {cv_name} (K={results['best_k']}):\")\n",
    "    print(f\"  Точность: {results['test_accuracy']:.4f}\")\n",
    "\n",
    "print(\"\\nОптимальные модели из RandomizedSearchCV:\")\n",
    "for cv_name, results in random_results.items():\n",
    "    print(f\"  {cv_name} (K={results['best_k']}):\")\n",
    "    print(f\"  Точность: {results['test_accuracy']:.4f}\")\n",
    "\n",
    "# Визуализация зависимости точности от K\n",
    "k_range = list(range(1, 31))\n",
    "accuracy_scores = []\n",
    "\n",
    "for k in k_range:\n",
    "    knn = KNeighborsClassifier(n_neighbors=k)\n",
    "    knn.fit(X_train_scaled, y_train)\n",
    "    y_pred = knn.predict(X_test_scaled)\n",
    "    accuracy_scores.append(accuracy_score(y_test, y_pred))\n",
    "\n",
    "plt.figure(figsize=(10, 6))\n",
    "plt.plot(k_range, accuracy_scores, 'bo-')\n",
    "plt.xlabel('Значение K')\n",
    "plt.ylabel('Точность')\n",
    "plt.title('Зависимость точности от значения K')\n",
    "plt.grid(True)\n",
    "plt.show()"
   ]
  },
  {
   "cell_type": "code",
   "execution_count": null,
   "id": "5a42925d-f00b-4e75-b7e4-16e5f510ebe3",
   "metadata": {},
   "outputs": [],
   "source": []
  }
 ],
 "metadata": {
  "kernelspec": {
   "display_name": "Python 3 (ipykernel)",
   "language": "python",
   "name": "python3"
  },
  "language_info": {
   "codemirror_mode": {
    "name": "ipython",
    "version": 3
   },
   "file_extension": ".py",
   "mimetype": "text/x-python",
   "name": "python",
   "nbconvert_exporter": "python",
   "pygments_lexer": "ipython3",
   "version": "3.13.1"
  }
 },
 "nbformat": 4,
 "nbformat_minor": 5
}
