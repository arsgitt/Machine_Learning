{
 "cells": [
  {
   "cell_type": "markdown",
   "id": "dbacf0c0-0c5c-474d-9296-c1b6681eeed5",
   "metadata": {},
   "source": [
    "## Задание. \n",
    "Для заданного набора данных (по Вашему варианту) постройте модели классификации или регрессии (в зависимости от конкретной задачи, рассматриваемой в наборе данных). Для построения моделей используйте методы 1 и 2 (по варианту для Вашей группы). Оцените качество моделей на основе подходящих метрик качества (не менее двух метрик). Какие метрики качества Вы использовали и почему? Какие выводы Вы можете сделать о качестве построенных моделей? Для построения моделей необходимо выполнить требуемую предобработку данных: заполнение пропусков, кодирование категориальных признаков, и т.д.\n",
    "## Условия по варианту (ИУ5-62Б Вар.14)\n",
    "ИУ5-62Б, ИУ5Ц-82Б\tМетод опорных векторов\tСлучайный лес\n",
    "\n",
    "14. https://www.kaggle.com/noriuk/us-education-datasets-unification-project (файл states_all.csv)"
   ]
  },
  {
   "cell_type": "markdown",
   "id": "f0dd5773-982f-4c12-b720-ae512c0912e6",
   "metadata": {},
   "source": [
    "## Загрузка датасета"
   ]
  },
  {
   "cell_type": "code",
   "execution_count": 21,
   "id": "e43bf209-46cb-4096-b622-1c2034dacca1",
   "metadata": {
    "scrolled": true
   },
   "outputs": [
    {
     "name": "stdout",
     "output_type": "stream",
     "text": [
      "<class 'pandas.core.frame.DataFrame'>\n",
      "RangeIndex: 1715 entries, 0 to 1714\n",
      "Data columns (total 25 columns):\n",
      " #   Column                        Non-Null Count  Dtype  \n",
      "---  ------                        --------------  -----  \n",
      " 0   PRIMARY_KEY                   1715 non-null   object \n",
      " 1   STATE                         1715 non-null   object \n",
      " 2   YEAR                          1715 non-null   int64  \n",
      " 3   ENROLL                        1224 non-null   float64\n",
      " 4   TOTAL_REVENUE                 1275 non-null   float64\n",
      " 5   FEDERAL_REVENUE               1275 non-null   float64\n",
      " 6   STATE_REVENUE                 1275 non-null   float64\n",
      " 7   LOCAL_REVENUE                 1275 non-null   float64\n",
      " 8   TOTAL_EXPENDITURE             1275 non-null   float64\n",
      " 9   INSTRUCTION_EXPENDITURE       1275 non-null   float64\n",
      " 10  SUPPORT_SERVICES_EXPENDITURE  1275 non-null   float64\n",
      " 11  OTHER_EXPENDITURE             1224 non-null   float64\n",
      " 12  CAPITAL_OUTLAY_EXPENDITURE    1275 non-null   float64\n",
      " 13  GRADES_PK_G                   1542 non-null   float64\n",
      " 14  GRADES_KG_G                   1632 non-null   float64\n",
      " 15  GRADES_4_G                    1632 non-null   float64\n",
      " 16  GRADES_8_G                    1632 non-null   float64\n",
      " 17  GRADES_12_G                   1632 non-null   float64\n",
      " 18  GRADES_1_8_G                  1020 non-null   float64\n",
      " 19  GRADES_9_12_G                 1071 non-null   float64\n",
      " 20  GRADES_ALL_G                  1632 non-null   float64\n",
      " 21  AVG_MATH_4_SCORE              565 non-null    float64\n",
      " 22  AVG_MATH_8_SCORE              602 non-null    float64\n",
      " 23  AVG_READING_4_SCORE           650 non-null    float64\n",
      " 24  AVG_READING_8_SCORE           562 non-null    float64\n",
      "dtypes: float64(22), int64(1), object(2)\n",
      "memory usage: 335.1+ KB\n"
     ]
    }
   ],
   "source": [
    "import pandas as pd\n",
    "import numpy as np\n",
    "from sklearn.model_selection import train_test_split\n",
    "from sklearn.preprocessing import StandardScaler, OneHotEncoder\n",
    "from sklearn.impute import SimpleImputer\n",
    "from sklearn.compose import ColumnTransformer\n",
    "from sklearn.pipeline import Pipeline\n",
    "from sklearn.svm import SVR\n",
    "from sklearn.ensemble import RandomForestRegressor\n",
    "from sklearn.metrics import mean_squared_error, r2_score, mean_absolute_error\n",
    "\n",
    "# Загрузка данных\n",
    "df = pd.read_csv('D:/Загрузки/states_all.csv')\n",
    "df.info()\n",
    "\n"
   ]
  },
  {
   "cell_type": "markdown",
   "id": "24590783-2c36-4107-b050-98d61a4c7560",
   "metadata": {},
   "source": [
    "## Предобработка данных\n"
   ]
  },
  {
   "cell_type": "code",
   "execution_count": 37,
   "id": "9e234368-809d-48d2-9085-d361996b6d51",
   "metadata": {},
   "outputs": [],
   "source": [
    "target = 'AVG_MATH_4_SCORE'\n",
    "\n",
    "# Удалим строки, где отсутствует значение целевой переменной\n",
    "df = df.dropna(subset=[target])\n",
    "\n",
    "# Обновим X и y после удаления\n",
    "features = df.drop(columns=[target])\n",
    "X = features\n",
    "y = df[target]\n",
    "\n",
    "# Разделение на числовые и категориальные признаки\n",
    "numeric_features = X.select_dtypes(include=['int64', 'float64']).columns\n",
    "categorical_features = X.select_dtypes(include=['object']).columns\n",
    "\n",
    "# Препроцессинг\n",
    "numeric_transformer = Pipeline(steps=[\n",
    "    ('imputer', SimpleImputer(strategy='median')),\n",
    "    ('scaler', StandardScaler())\n",
    "])\n",
    "categorical_transformer = Pipeline(steps=[\n",
    "    ('imputer', SimpleImputer(strategy='most_frequent')),\n",
    "    ('onehot', OneHotEncoder(handle_unknown='ignore'))\n",
    "])\n",
    "preprocessor = ColumnTransformer(transformers=[\n",
    "    ('num', numeric_transformer, numeric_features),\n",
    "    ('cat', categorical_transformer, categorical_features)\n",
    "])\n",
    "\n",
    "# Разделение на train/test\n",
    "X_train, X_test, y_train, y_test = train_test_split(X, y, test_size=0.2, random_state=42)\n"
   ]
  },
  {
   "cell_type": "markdown",
   "id": "a3ec473d-0e3c-4157-8f10-e2104b74744b",
   "metadata": {},
   "source": [
    "## Обучение SVM"
   ]
  },
  {
   "cell_type": "code",
   "execution_count": 38,
   "id": "4b3fbe17-bb64-479e-b979-0055ba766d97",
   "metadata": {},
   "outputs": [
    {
     "name": "stdout",
     "output_type": "stream",
     "text": [
      "Метрики качества для SVM:\n",
      "MSE: 13.1007\n",
      "RMSE: 3.6195\n",
      "R²: 0.8516\n",
      "MAE: 2.5951\n"
     ]
    }
   ],
   "source": [
    "svm_pipeline = Pipeline(steps=[\n",
    "    ('preprocessor', preprocessor),\n",
    "    ('regressor', SVR())\n",
    "])\n",
    "\n",
    "svm_pipeline.fit(X_train, y_train)\n",
    "y_pred_svm = svm_pipeline.predict(X_test)\n",
    "\n",
    "# Метрики\n",
    "print(\"Метрики качества для SVM:\")\n",
    "print(f\"MSE: {mean_squared_error(y_test, y_pred_svm):.4f}\")\n",
    "print(f\"RMSE: {np.sqrt(mean_squared_error(y_test, y_pred_svm)):.4f}\")\n",
    "print(f\"R²: {r2_score(y_test, y_pred_svm):.4f}\")\n",
    "print(f\"MAE: {mean_absolute_error(y_test, y_pred_svm):.4f}\")\n"
   ]
  },
  {
   "cell_type": "markdown",
   "id": "4e1788bb-4832-42c3-b8a2-bac9b5998807",
   "metadata": {},
   "source": [
    "## Обучение случайный лес"
   ]
  },
  {
   "cell_type": "code",
   "execution_count": 39,
   "id": "609ff9a1-2eec-4d05-b346-c10187a14849",
   "metadata": {},
   "outputs": [
    {
     "name": "stdout",
     "output_type": "stream",
     "text": [
      "\n",
      "Метрики качества для Random Forest:\n",
      "MSE: 7.2403\n",
      "RMSE: 2.6908\n",
      "R²: 0.9180\n",
      "MAE: 2.0483\n"
     ]
    }
   ],
   "source": [
    "from sklearn.ensemble import RandomForestRegressor\n",
    "\n",
    "# Создание пайплайна для Random Forest\n",
    "rf_pipeline = Pipeline(steps=[\n",
    "    ('preprocessor', preprocessor),\n",
    "    ('regressor', RandomForestRegressor(random_state=42))\n",
    "])\n",
    "\n",
    "# Обучение модели\n",
    "rf_pipeline.fit(X_train, y_train)\n",
    "\n",
    "# Предсказания\n",
    "y_pred_rf = rf_pipeline.predict(X_test)\n",
    "\n",
    "# Метрики\n",
    "mse_rf = mean_squared_error(y_test, y_pred_rf)\n",
    "rmse_rf = np.sqrt(mse_rf)\n",
    "r2_rf = r2_score(y_test, y_pred_rf)\n",
    "mae_rf = mean_absolute_error(y_test, y_pred_rf)\n",
    "\n",
    "print(\"\\nМетрики качества для Random Forest:\")\n",
    "print(f\"MSE: {mse_rf:.4f}\")\n",
    "print(f\"RMSE: {rmse_rf:.4f}\")\n",
    "print(f\"R²: {r2_rf:.4f}\")\n",
    "print(f\"MAE: {mae_rf:.4f}\")\n"
   ]
  },
  {
   "cell_type": "markdown",
   "id": "f4047437-6a27-448a-a8eb-6d27fb67bebf",
   "metadata": {},
   "source": [
    "Random Forest значительно превосходит SVM по всем ключевым метрикам:\n",
    "\n",
    "Ошибки (MSE, RMSE, MAE) меньше, что говорит о более точных предсказаниях;\n",
    "\n",
    "Коэффициент детерминации R² выше, то есть модель лучше объясняет вариацию целевой переменной.\n",
    "\n",
    "SVM хоть и показал неплохой результат (R² = 0.85), всё же уступает по всем показателям."
   ]
  },
  {
   "cell_type": "markdown",
   "id": "bc330e49-8751-4521-b26e-59fc816d4270",
   "metadata": {},
   "source": [
    "## Вывод"
   ]
  },
  {
   "cell_type": "markdown",
   "id": "aab7340e-6245-4287-b63e-0c07a2328b5f",
   "metadata": {},
   "source": [
    "**Модель Random Forest демонстрирует лучшее качество предсказаний по сравнению с SVM и является предпочтительным выбором для данной задачи регрессии.**"
   ]
  }
 ],
 "metadata": {
  "kernelspec": {
   "display_name": "Python 3 (ipykernel)",
   "language": "python",
   "name": "python3"
  },
  "language_info": {
   "codemirror_mode": {
    "name": "ipython",
    "version": 3
   },
   "file_extension": ".py",
   "mimetype": "text/x-python",
   "name": "python",
   "nbconvert_exporter": "python",
   "pygments_lexer": "ipython3",
   "version": "3.13.1"
  }
 },
 "nbformat": 4,
 "nbformat_minor": 5
}
